{
 "cells": [
  {
   "cell_type": "markdown",
   "id": "2bf4e070-f972-470f-8576-c1b4cee93ad9",
   "metadata": {},
   "source": [
    "TASK 1 : TABLE BOOKING AND ONLINE DELIVERY"
   ]
  },
  {
   "cell_type": "code",
   "execution_count": 99,
   "id": "f0fd747a-faa9-44b9-8262-7e23370d0999",
   "metadata": {},
   "outputs": [],
   "source": [
    "import warnings\n",
    "warnings.filterwarnings(\"ignore\")"
   ]
  },
  {
   "cell_type": "code",
   "execution_count": 100,
   "id": "fc0dc40a-6337-4e0a-a54d-6886458201f8",
   "metadata": {},
   "outputs": [],
   "source": [
    "import numpy as np\n",
    "import pandas as pd\n",
    "import matplotlib.pyplot as plt\n",
    "import seaborn as sns"
   ]
  },
  {
   "cell_type": "code",
   "execution_count": 101,
   "id": "99859ca7-1e84-4cc1-98c3-28f7a0218fa9",
   "metadata": {},
   "outputs": [],
   "source": [
    "df = pd.read_csv(\"C:/Users/rishi/OneDrive/Documents/cognifyz internship/Dataset .csv\")"
   ]
  },
  {
   "cell_type": "code",
   "execution_count": 102,
   "id": "df4fd681-16b4-4c77-813c-bd1ae50da7e8",
   "metadata": {},
   "outputs": [
    {
     "data": {
      "text/plain": [
       "Restaurant ID           0\n",
       "Restaurant Name         0\n",
       "Country Code            0\n",
       "City                    0\n",
       "Address                 0\n",
       "Locality                0\n",
       "Locality Verbose        0\n",
       "Longitude               0\n",
       "Latitude                0\n",
       "Cuisines                9\n",
       "Average Cost for two    0\n",
       "Currency                0\n",
       "Has Table booking       0\n",
       "Has Online delivery     0\n",
       "Is delivering now       0\n",
       "Switch to order menu    0\n",
       "Price range             0\n",
       "Aggregate rating        0\n",
       "Rating color            0\n",
       "Rating text             0\n",
       "Votes                   0\n",
       "dtype: int64"
      ]
     },
     "execution_count": 102,
     "metadata": {},
     "output_type": "execute_result"
    }
   ],
   "source": [
    "df.isnull().sum()"
   ]
  },
  {
   "cell_type": "code",
   "execution_count": 103,
   "id": "8185e068-bd6c-4eb6-ae16-97d8f4e92139",
   "metadata": {},
   "outputs": [
    {
     "name": "stdout",
     "output_type": "stream",
     "text": [
      "<class 'pandas.core.frame.DataFrame'>\n",
      "RangeIndex: 9551 entries, 0 to 9550\n",
      "Data columns (total 21 columns):\n",
      " #   Column                Non-Null Count  Dtype  \n",
      "---  ------                --------------  -----  \n",
      " 0   Restaurant ID         9551 non-null   int64  \n",
      " 1   Restaurant Name       9551 non-null   object \n",
      " 2   Country Code          9551 non-null   int64  \n",
      " 3   City                  9551 non-null   object \n",
      " 4   Address               9551 non-null   object \n",
      " 5   Locality              9551 non-null   object \n",
      " 6   Locality Verbose      9551 non-null   object \n",
      " 7   Longitude             9551 non-null   float64\n",
      " 8   Latitude              9551 non-null   float64\n",
      " 9   Cuisines              9542 non-null   object \n",
      " 10  Average Cost for two  9551 non-null   int64  \n",
      " 11  Currency              9551 non-null   object \n",
      " 12  Has Table booking     9551 non-null   object \n",
      " 13  Has Online delivery   9551 non-null   object \n",
      " 14  Is delivering now     9551 non-null   object \n",
      " 15  Switch to order menu  9551 non-null   object \n",
      " 16  Price range           9551 non-null   int64  \n",
      " 17  Aggregate rating      9551 non-null   float64\n",
      " 18  Rating color          9551 non-null   object \n",
      " 19  Rating text           9551 non-null   object \n",
      " 20  Votes                 9551 non-null   int64  \n",
      "dtypes: float64(3), int64(5), object(13)\n",
      "memory usage: 1.5+ MB\n"
     ]
    }
   ],
   "source": [
    "df.info()"
   ]
  },
  {
   "cell_type": "code",
   "execution_count": 104,
   "id": "ffc48a70-5889-4f31-918b-44a4182c06b3",
   "metadata": {},
   "outputs": [
    {
     "data": {
      "text/plain": [
       "Has Table booking\n",
       "No     8393\n",
       "Yes    1158\n",
       "Name: count, dtype: int64"
      ]
     },
     "execution_count": 104,
     "metadata": {},
     "output_type": "execute_result"
    }
   ],
   "source": [
    "df[\"Has Table booking\"].value_counts()"
   ]
  },
  {
   "cell_type": "code",
   "execution_count": 105,
   "id": "f97ea8c8-0430-444b-b189-286ed4b98e76",
   "metadata": {},
   "outputs": [
    {
     "data": {
      "text/plain": [
       "Has Online delivery\n",
       "No     7100\n",
       "Yes    2451\n",
       "Name: count, dtype: int64"
      ]
     },
     "execution_count": 105,
     "metadata": {},
     "output_type": "execute_result"
    }
   ],
   "source": [
    "df[\"Has Online delivery\"].value_counts()"
   ]
  },
  {
   "cell_type": "code",
   "execution_count": 106,
   "id": "317573e3-5687-41d1-a3c2-7422778f908d",
   "metadata": {},
   "outputs": [
    {
     "name": "stdout",
     "output_type": "stream",
     "text": [
      "Table Booking :  12.12 %\n",
      "Online Delivery :  25.66 %\n"
     ]
    }
   ],
   "source": [
    "print(\"Table Booking : \", round((1158/(8393+1158)) *100, 2),\"%\")\n",
    "print(\"Online Delivery : \", round((2451/(7100+2451)) *100, 2), \"%\")"
   ]
  },
  {
   "cell_type": "markdown",
   "id": "7c23e3c8-534d-4ad6-aeff-073f4eaae5b1",
   "metadata": {},
   "source": [
    "compare the average ratings of restaurants with table booking and those without"
   ]
  },
  {
   "cell_type": "code",
   "execution_count": 107,
   "id": "20dc1ef5-28cc-4bc2-b9cb-9ff7348c15ce",
   "metadata": {},
   "outputs": [
    {
     "name": "stdout",
     "output_type": "stream",
     "text": [
      "Rows With Table Booking : (1158, 21)\n",
      "Rows Without Table Booking : (8393, 21)\n"
     ]
    }
   ],
   "source": [
    "df_with_table_booking= df[df['Has Table booking'] == 'Yes']\n",
    "df_without_table_booking= df[df['Has Table booking'] == 'No']\n",
    "print(\"Rows With Table Booking :\",df_with_table_booking.shape)\n",
    "print(\"Rows Without Table Booking :\",df_without_table_booking.shape)"
   ]
  },
  {
   "cell_type": "code",
   "execution_count": 108,
   "id": "130689f4-d706-4a57-9018-8328232426db",
   "metadata": {},
   "outputs": [
    {
     "name": "stdout",
     "output_type": "stream",
     "text": [
      "Average Ratings:\n",
      " With Table Booking :  3.44\n",
      " Without Table Booking :  2.56\n"
     ]
    }
   ],
   "source": [
    "print(\"Average Ratings:\")\n",
    "print(\" With Table Booking : \", round(df_with_table_booking[\"Aggregate rating\"].mean(),2))\n",
    "print(\" Without Table Booking : \", round(df_without_table_booking[\"Aggregate rating\"].mean(),2))"
   ]
  },
  {
   "cell_type": "code",
   "execution_count": 110,
   "id": "5fd9901b-8f12-469d-8046-3367a8e1bf58",
   "metadata": {},
   "outputs": [
    {
     "data": {
      "image/png": "[encoded data removed]",
      "text/plain": [
       "<Figure size 1000x600 with 1 Axes>"
      ]
     },
     "metadata": {},
     "output_type": "display_data"
    }
   ],
   "source": [
    "online_Delivery_by_price_range = df.groupby('Price range')['Has Online delivery'].value_counts(normalize=True).unstack()*100\n",
    "online_Delivery_by_price_range.plot(kind='bar',stacked=True, colormap='viridis', figsize=(10,6))\n",
    "plt.title('Online Delivery Availablity By Price Range')\n",
    "plt.xlabel('Price Range')\n",
    "plt.ylabel('Percentage of Restaurants with Online Delivery')\n",
    "plt.xticks(rotation=0)\n",
    "plt.legend(title='Online Delivery',bbox_to_anchor=(1.05,1))\n",
    "plt.show()"
   ]
  },
  {
   "cell_type": "code",
   "execution_count": 114,
   "id": "dc966a64-62bb-4be2-893e-5e552b328c2f",
   "metadata": {},
   "outputs": [
    {
     "data": {
      "image/png": "[encoded data removed]",
      "text/plain": [
       "<Figure size 1000x600 with 1 Axes>"
      ]
     },
     "metadata": {},
     "output_type": "display_data"
    }
   ],
   "source": [
    "Online_Delivery_Yes = df[df['Has Online delivery'] == 'Yes']\n",
    "Online_Delivery_counts = Online_Delivery_Yes.groupby(['Price range', 'Has Online delivery']).size().unstack()\n",
    "Online_Delivery_counts.plot(kind='bar',stacked=True, colormap='cividis',figsize=(10,6))\n",
    "plt.title('Online Delivery Availablity By Price Range')\n",
    "plt.xlabel('Price Range')\n",
    "plt.ylabel('Numbers of Restaurants')\n",
    "plt.xticks(rotation=0)\n",
    "plt.legend(title='Online Delivery',bbox_to_anchor=(1.05,1), loc='upper left')\n",
    "plt.show()\n"
   ]
  },
  {
   "cell_type": "markdown",
   "id": "c317da63-8a61-4fff-a6e3-bf8f54fb88f8",
   "metadata": {},
   "source": [
    "TASK 2 : PRICE RANGE ANALYSIS"
   ]
  },
  {
   "cell_type": "code",
   "execution_count": 115,
   "id": "1129cfaa-5446-4d33-8031-dd36f31ff4b1",
   "metadata": {},
   "outputs": [
    {
     "data": {
      "text/plain": [
       "Price range\n",
       "1    4444\n",
       "2    3113\n",
       "3    1408\n",
       "4     586\n",
       "Name: count, dtype: int64"
      ]
     },
     "execution_count": 115,
     "metadata": {},
     "output_type": "execute_result"
    }
   ],
   "source": [
    "df[\"Price range\"].value_counts()"
   ]
  },
  {
   "cell_type": "code",
   "execution_count": 116,
   "id": "c2622153-3973-449d-9fca-60cb6c75749b",
   "metadata": {},
   "outputs": [
    {
     "name": "stdout",
     "output_type": "stream",
     "text": [
      "Most Common Price range among all the restaurants :  1\n"
     ]
    }
   ],
   "source": [
    "most_common = df[\"Price range\"].mode()[0]\n",
    "print(\"Most Common Price range among all the restaurants : \",most_common)"
   ]
  },
  {
   "cell_type": "code",
   "execution_count": 117,
   "id": "5a9f7737-6411-4e7f-b5b7-56ddcb47463a",
   "metadata": {},
   "outputs": [
    {
     "name": "stdout",
     "output_type": "stream",
     "text": [
      "Average Rating for each price range :\n",
      "Price range\n",
      "1    2.00\n",
      "2    2.94\n",
      "3    3.68\n",
      "4    3.82\n",
      "Name: Aggregate rating, dtype: float64\n"
     ]
    }
   ],
   "source": [
    "Avg_Rating_by_price_range = df.groupby('Price range')['Aggregate rating'].mean().round(2)\n",
    "print(\"Average Rating for each price range :\")\n",
    "print(Avg_Rating_by_price_range)"
   ]
  },
  {
   "cell_type": "code",
   "execution_count": 119,
   "id": "d211a543-3348-436f-9048-d74ca1251da8",
   "metadata": {},
   "outputs": [
    {
     "data": {
      "image/png": "[encoded data removed]",
      "text/plain": [
       "<Figure size 640x480 with 1 Axes>"
      ]
     },
     "metadata": {},
     "output_type": "display_data"
    }
   ],
   "source": [
    "highest_avg_rating_color = Avg_Rating_by_price_range.idxmax()\n",
    "plt.bar(Avg_Rating_by_price_range.index, Avg_Rating_by_price_range, color='skyblue',width=0.5)\n",
    "plt.bar(highest_avg_rating_color, Avg_Rating_by_price_range[highest_avg_rating_color],color='green',width=0.5)\n",
    "plt.xlabel('Price Range')\n",
    "plt.ylabel('Average Rating')\n",
    "plt.title('Average Rating by Price Range')\n",
    "plt.show()"
   ]
  },
  {
   "cell_type": "markdown",
   "id": "a5fd86ae-c6c6-475d-82d2-b855f3dba26d",
   "metadata": {},
   "source": [
    "TASK 3 : FEATURE ENGINEERING"
   ]
  },
  {
   "cell_type": "code",
   "execution_count": 121,
   "id": "ae933903-c793-48bf-a97d-29aa1ef9b660",
   "metadata": {},
   "outputs": [],
   "source": [
    "df['Restaurant Name length']= df['Restaurant Name'].apply(lambda x: len(str(x)))\n",
    "df['Address Length'] = df['Address'].apply(lambda x: len(str(x)))"
   ]
  },
  {
   "cell_type": "code",
   "execution_count": 125,
   "id": "52f23651-1857-4598-beae-80e5e16acc35",
   "metadata": {},
   "outputs": [
    {
     "data": {
      "text/html": [
       "<div>\n",
       "<style scoped>\n",
       "    .dataframe tbody tr th:only-of-type {\n",
       "        vertical-align: middle;\n",
       "    }\n",
       "\n",
       "    .dataframe tbody tr th {\n",
       "        vertical-align: top;\n",
       "    }\n",
       "\n",
       "    .dataframe thead th {\n",
       "        text-align: right;\n",
       "    }\n",
       "</style>\n",
       "<table border=\"1\" class=\"dataframe\">\n",
       "  <thead>\n",
       "    <tr style=\"text-align: right;\">\n",
       "      <th></th>\n",
       "      <th>Restaurant Name</th>\n",
       "      <th>Restaurant Name length</th>\n",
       "      <th>Address</th>\n",
       "      <th>Address Length</th>\n",
       "    </tr>\n",
       "  </thead>\n",
       "  <tbody>\n",
       "    <tr>\n",
       "      <th>0</th>\n",
       "      <td>Le Petit Souffle</td>\n",
       "      <td>16</td>\n",
       "      <td>Third Floor, Century City Mall, Kalayaan Avenu...</td>\n",
       "      <td>71</td>\n",
       "    </tr>\n",
       "    <tr>\n",
       "      <th>1</th>\n",
       "      <td>Izakaya Kikufuji</td>\n",
       "      <td>16</td>\n",
       "      <td>Little Tokyo, 2277 Chino Roces Avenue, Legaspi...</td>\n",
       "      <td>67</td>\n",
       "    </tr>\n",
       "    <tr>\n",
       "      <th>2</th>\n",
       "      <td>Heat - Edsa Shangri-La</td>\n",
       "      <td>22</td>\n",
       "      <td>Edsa Shangri-La, 1 Garden Way, Ortigas, Mandal...</td>\n",
       "      <td>56</td>\n",
       "    </tr>\n",
       "    <tr>\n",
       "      <th>3</th>\n",
       "      <td>Ooma</td>\n",
       "      <td>4</td>\n",
       "      <td>Third Floor, Mega Fashion Hall, SM Megamall, O...</td>\n",
       "      <td>70</td>\n",
       "    </tr>\n",
       "    <tr>\n",
       "      <th>4</th>\n",
       "      <td>Sambo Kojin</td>\n",
       "      <td>11</td>\n",
       "      <td>Third Floor, Mega Atrium, SM Megamall, Ortigas...</td>\n",
       "      <td>64</td>\n",
       "    </tr>\n",
       "    <tr>\n",
       "      <th>...</th>\n",
       "      <td>...</td>\n",
       "      <td>...</td>\n",
       "      <td>...</td>\n",
       "      <td>...</td>\n",
       "    </tr>\n",
       "    <tr>\n",
       "      <th>9546</th>\n",
       "      <td>Naml۱ Gurme</td>\n",
       "      <td>11</td>\n",
       "      <td>Kemanke�� Karamustafa Pa��a Mahallesi, R۱ht۱m ...</td>\n",
       "      <td>103</td>\n",
       "    </tr>\n",
       "    <tr>\n",
       "      <th>9547</th>\n",
       "      <td>Ceviz A��ac۱</td>\n",
       "      <td>12</td>\n",
       "      <td>Ko��uyolu Mahallesi, Muhittin ��st�_nda�� Cadd...</td>\n",
       "      <td>77</td>\n",
       "    </tr>\n",
       "    <tr>\n",
       "      <th>9548</th>\n",
       "      <td>Huqqa</td>\n",
       "      <td>5</td>\n",
       "      <td>Kuru�_e��me Mahallesi, Muallim Naci Caddesi, N...</td>\n",
       "      <td>73</td>\n",
       "    </tr>\n",
       "    <tr>\n",
       "      <th>9549</th>\n",
       "      <td>A���k Kahve</td>\n",
       "      <td>11</td>\n",
       "      <td>Kuru�_e��me Mahallesi, Muallim Naci Caddesi, N...</td>\n",
       "      <td>75</td>\n",
       "    </tr>\n",
       "    <tr>\n",
       "      <th>9550</th>\n",
       "      <td>Walter's Coffee Roastery</td>\n",
       "      <td>24</td>\n",
       "      <td>Cafea��a Mahallesi, Bademalt۱ Sokak, No 21/B, ...</td>\n",
       "      <td>65</td>\n",
       "    </tr>\n",
       "  </tbody>\n",
       "</table>\n",
       "<p>9551 rows × 4 columns</p>\n",
       "</div>"
      ],
      "text/plain": [
       "               Restaurant Name  Restaurant Name length  \\\n",
       "0             Le Petit Souffle                      16   \n",
       "1             Izakaya Kikufuji                      16   \n",
       "2       Heat - Edsa Shangri-La                      22   \n",
       "3                         Ooma                       4   \n",
       "4                  Sambo Kojin                      11   \n",
       "...                        ...                     ...   \n",
       "9546               Naml۱ Gurme                      11   \n",
       "9547              Ceviz A��ac۱                      12   \n",
       "9548                     Huqqa                       5   \n",
       "9549               A���k Kahve                      11   \n",
       "9550  Walter's Coffee Roastery                      24   \n",
       "\n",
       "                                                Address  Address Length  \n",
       "0     Third Floor, Century City Mall, Kalayaan Avenu...              71  \n",
       "1     Little Tokyo, 2277 Chino Roces Avenue, Legaspi...              67  \n",
       "2     Edsa Shangri-La, 1 Garden Way, Ortigas, Mandal...              56  \n",
       "3     Third Floor, Mega Fashion Hall, SM Megamall, O...              70  \n",
       "4     Third Floor, Mega Atrium, SM Megamall, Ortigas...              64  \n",
       "...                                                 ...             ...  \n",
       "9546  Kemanke�� Karamustafa Pa��a Mahallesi, R۱ht۱m ...             103  \n",
       "9547  Ko��uyolu Mahallesi, Muhittin ��st�_nda�� Cadd...              77  \n",
       "9548  Kuru�_e��me Mahallesi, Muallim Naci Caddesi, N...              73  \n",
       "9549  Kuru�_e��me Mahallesi, Muallim Naci Caddesi, N...              75  \n",
       "9550  Cafea��a Mahallesi, Bademalt۱ Sokak, No 21/B, ...              65  \n",
       "\n",
       "[9551 rows x 4 columns]"
      ]
     },
     "execution_count": 125,
     "metadata": {},
     "output_type": "execute_result"
    }
   ],
   "source": [
    "df[['Restaurant Name','Restaurant Name length','Address','Address Length']]"
   ]
  },
  {
   "cell_type": "code",
   "execution_count": 126,
   "id": "eb4364bc-8ff1-4599-8b3d-6221855532ad",
   "metadata": {},
   "outputs": [],
   "source": [
    "df['Has Table Booking']= df['Has Table booking'].apply(lambda x: 1 if x == 'Yes' else 0)\n",
    "df['Has Online Delivery'] = df['Has Online delivery'].apply(lambda x: 1 if x == 'Yes' else 0)"
   ]
  },
  {
   "cell_type": "code",
   "execution_count": 127,
   "id": "4f659c42-7b2e-4d69-84c6-4b8056220229",
   "metadata": {},
   "outputs": [
    {
     "data": {
      "text/html": [
       "<div>\n",
       "<style scoped>\n",
       "    .dataframe tbody tr th:only-of-type {\n",
       "        vertical-align: middle;\n",
       "    }\n",
       "\n",
       "    .dataframe tbody tr th {\n",
       "        vertical-align: top;\n",
       "    }\n",
       "\n",
       "    .dataframe thead th {\n",
       "        text-align: right;\n",
       "    }\n",
       "</style>\n",
       "<table border=\"1\" class=\"dataframe\">\n",
       "  <thead>\n",
       "    <tr style=\"text-align: right;\">\n",
       "      <th></th>\n",
       "      <th>Has Table booking</th>\n",
       "      <th>Has Table Booking</th>\n",
       "      <th>Has Online delivery</th>\n",
       "      <th>Has Online Delivery</th>\n",
       "    </tr>\n",
       "  </thead>\n",
       "  <tbody>\n",
       "    <tr>\n",
       "      <th>0</th>\n",
       "      <td>Yes</td>\n",
       "      <td>1</td>\n",
       "      <td>No</td>\n",
       "      <td>0</td>\n",
       "    </tr>\n",
       "    <tr>\n",
       "      <th>1</th>\n",
       "      <td>Yes</td>\n",
       "      <td>1</td>\n",
       "      <td>No</td>\n",
       "      <td>0</td>\n",
       "    </tr>\n",
       "    <tr>\n",
       "      <th>2</th>\n",
       "      <td>Yes</td>\n",
       "      <td>1</td>\n",
       "      <td>No</td>\n",
       "      <td>0</td>\n",
       "    </tr>\n",
       "    <tr>\n",
       "      <th>3</th>\n",
       "      <td>No</td>\n",
       "      <td>0</td>\n",
       "      <td>No</td>\n",
       "      <td>0</td>\n",
       "    </tr>\n",
       "    <tr>\n",
       "      <th>4</th>\n",
       "      <td>Yes</td>\n",
       "      <td>1</td>\n",
       "      <td>No</td>\n",
       "      <td>0</td>\n",
       "    </tr>\n",
       "    <tr>\n",
       "      <th>...</th>\n",
       "      <td>...</td>\n",
       "      <td>...</td>\n",
       "      <td>...</td>\n",
       "      <td>...</td>\n",
       "    </tr>\n",
       "    <tr>\n",
       "      <th>9546</th>\n",
       "      <td>No</td>\n",
       "      <td>0</td>\n",
       "      <td>No</td>\n",
       "      <td>0</td>\n",
       "    </tr>\n",
       "    <tr>\n",
       "      <th>9547</th>\n",
       "      <td>No</td>\n",
       "      <td>0</td>\n",
       "      <td>No</td>\n",
       "      <td>0</td>\n",
       "    </tr>\n",
       "    <tr>\n",
       "      <th>9548</th>\n",
       "      <td>No</td>\n",
       "      <td>0</td>\n",
       "      <td>No</td>\n",
       "      <td>0</td>\n",
       "    </tr>\n",
       "    <tr>\n",
       "      <th>9549</th>\n",
       "      <td>No</td>\n",
       "      <td>0</td>\n",
       "      <td>No</td>\n",
       "      <td>0</td>\n",
       "    </tr>\n",
       "    <tr>\n",
       "      <th>9550</th>\n",
       "      <td>No</td>\n",
       "      <td>0</td>\n",
       "      <td>No</td>\n",
       "      <td>0</td>\n",
       "    </tr>\n",
       "  </tbody>\n",
       "</table>\n",
       "<p>9551 rows × 4 columns</p>\n",
       "</div>"
      ],
      "text/plain": [
       "     Has Table booking  Has Table Booking Has Online delivery  \\\n",
       "0                  Yes                  1                  No   \n",
       "1                  Yes                  1                  No   \n",
       "2                  Yes                  1                  No   \n",
       "3                   No                  0                  No   \n",
       "4                  Yes                  1                  No   \n",
       "...                ...                ...                 ...   \n",
       "9546                No                  0                  No   \n",
       "9547                No                  0                  No   \n",
       "9548                No                  0                  No   \n",
       "9549                No                  0                  No   \n",
       "9550                No                  0                  No   \n",
       "\n",
       "      Has Online Delivery  \n",
       "0                       0  \n",
       "1                       0  \n",
       "2                       0  \n",
       "3                       0  \n",
       "4                       0  \n",
       "...                   ...  \n",
       "9546                    0  \n",
       "9547                    0  \n",
       "9548                    0  \n",
       "9549                    0  \n",
       "9550                    0  \n",
       "\n",
       "[9551 rows x 4 columns]"
      ]
     },
     "execution_count": 127,
     "metadata": {},
     "output_type": "execute_result"
    }
   ],
   "source": [
    "df[['Has Table booking','Has Table Booking','Has Online delivery','Has Online Delivery']]"
   ]
  },
  {
   "cell_type": "code",
   "execution_count": null,
   "id": "3f8a55aa-0464-4006-a899-1ce7a0790f41",
   "metadata": {},
   "outputs": [],
   "source": []
  }
 ],
 "metadata": {
  "kernelspec": {
   "display_name": "Python 3 (ipykernel)",
   "language": "python",
   "name": "python3"
  },
  "language_info": {
   "codemirror_mode": {
    "name": "ipython",
    "version": 3
   },
   "file_extension": ".py",
   "mimetype": "text/x-python",
   "name": "python",
   "nbconvert_exporter": "python",
   "pygments_lexer": "ipython3",
   "version": "3.11.7"
  }
 },
 "nbformat": 4,
 "nbformat_minor": 5
}
